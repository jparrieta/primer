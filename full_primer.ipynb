{
 "cells": [
  {
   "cell_type": "markdown",
   "metadata": {},
   "source": [
    "# Programming Tutorial\n",
    "Programming requires us to interact with a computer. To do this we need to understand the language the computer speaks and the logic of the computer. Every programming language has a different syntax. However, all programming languages share the use of binary logic.  \n",
    "  \n",
    "This tutorial includes four parts.  \n",
    "1. Data types  \n",
    "2. Input, Output, and Storage\n",
    "3. Logic  \n",
    "4. Function  "
   ]
  },
  {
   "cell_type": "markdown",
   "metadata": {},
   "source": [
    "# 0. Calculator\n",
    "Before starting, it is important to note that before all, Python and most programming languages are calculators. One can do arithmetic directly and without requiring much from work. \n",
    "\n",
    "## Examples\n",
    "Below I present some examples and you canc see the outputs. Feel free to change the numbers or operations. You can try it yourself. This applies everywhere in this tutorial."
   ]
  },
  {
   "cell_type": "code",
   "execution_count": 1,
   "metadata": {},
   "outputs": [
    {
     "data": {
      "text/plain": [
       "4"
      ]
     },
     "execution_count": 1,
     "metadata": {},
     "output_type": "execute_result"
    }
   ],
   "source": [
    "2+2"
   ]
  },
  {
   "cell_type": "code",
   "execution_count": 2,
   "metadata": {},
   "outputs": [
    {
     "data": {
      "text/plain": [
       "0"
      ]
     },
     "execution_count": 2,
     "metadata": {},
     "output_type": "execute_result"
    }
   ],
   "source": [
    "2-2"
   ]
  },
  {
   "cell_type": "code",
   "execution_count": 3,
   "metadata": {},
   "outputs": [
    {
     "data": {
      "text/plain": [
       "8.0"
      ]
     },
     "execution_count": 3,
     "metadata": {},
     "output_type": "execute_result"
    }
   ],
   "source": [
    "2.0**3"
   ]
  },
  {
   "cell_type": "code",
   "execution_count": 4,
   "metadata": {},
   "outputs": [
    {
     "data": {
      "text/plain": [
       "0.6366385484641095"
      ]
     },
     "execution_count": 4,
     "metadata": {},
     "output_type": "execute_result"
    }
   ],
   "source": [
    "2.0/3.1415"
   ]
  },
  {
   "cell_type": "code",
   "execution_count": 5,
   "metadata": {},
   "outputs": [
    {
     "data": {
      "text/plain": [
       "1"
      ]
     },
     "execution_count": 5,
     "metadata": {},
     "output_type": "execute_result"
    }
   ],
   "source": [
    "3%2"
   ]
  },
  {
   "cell_type": "code",
   "execution_count": 6,
   "metadata": {},
   "outputs": [
    {
     "data": {
      "text/plain": [
       "0"
      ]
     },
     "execution_count": 6,
     "metadata": {},
     "output_type": "execute_result"
    }
   ],
   "source": [
    "2%2"
   ]
  },
  {
   "cell_type": "markdown",
   "metadata": {},
   "source": [
    "Additionally you can perfom logic opperations. YOu can even concatenate these "
   ]
  },
  {
   "cell_type": "code",
   "execution_count": 15,
   "metadata": {},
   "outputs": [
    {
     "data": {
      "text/plain": [
       "True"
      ]
     },
     "execution_count": 15,
     "metadata": {},
     "output_type": "execute_result"
    }
   ],
   "source": [
    "2+2 == 4"
   ]
  },
  {
   "cell_type": "code",
   "execution_count": 16,
   "metadata": {},
   "outputs": [
    {
     "data": {
      "text/plain": [
       "True"
      ]
     },
     "execution_count": 16,
     "metadata": {},
     "output_type": "execute_result"
    }
   ],
   "source": [
    "2+2 >= 4"
   ]
  },
  {
   "cell_type": "code",
   "execution_count": 17,
   "metadata": {},
   "outputs": [
    {
     "data": {
      "text/plain": [
       "False"
      ]
     },
     "execution_count": 17,
     "metadata": {},
     "output_type": "execute_result"
    }
   ],
   "source": [
    "2+2 > 4"
   ]
  },
  {
   "cell_type": "code",
   "execution_count": 18,
   "metadata": {},
   "outputs": [
    {
     "data": {
      "text/plain": [
       "False"
      ]
     },
     "execution_count": 18,
     "metadata": {},
     "output_type": "execute_result"
    }
   ],
   "source": [
    "2+2 < 4"
   ]
  },
  {
   "cell_type": "code",
   "execution_count": 11,
   "metadata": {},
   "outputs": [
    {
     "data": {
      "text/plain": [
       "False"
      ]
     },
     "execution_count": 11,
     "metadata": {},
     "output_type": "execute_result"
    }
   ],
   "source": [
    "'a' == 'b'"
   ]
  },
  {
   "cell_type": "code",
   "execution_count": 12,
   "metadata": {},
   "outputs": [
    {
     "data": {
      "text/plain": [
       "False"
      ]
     },
     "execution_count": 12,
     "metadata": {},
     "output_type": "execute_result"
    }
   ],
   "source": [
    "2+2 == 4 or 'a' == 'b'"
   ]
  },
  {
   "cell_type": "code",
   "execution_count": 13,
   "metadata": {},
   "outputs": [
    {
     "data": {
      "text/plain": [
       "True"
      ]
     },
     "execution_count": 13,
     "metadata": {},
     "output_type": "execute_result"
    }
   ],
   "source": [
    "2+2 == 4 and 'a' == 'b'"
   ]
  },
  {
   "cell_type": "markdown",
   "metadata": {},
   "source": [
    "Below we will do more examples with mathematical functions like square root and exponentials. But before that we need to understand more about what programming entails. "
   ]
  },
  {
   "cell_type": "markdown",
   "metadata": {},
   "source": [
    "## 1. Data Types\n",
    "Data can have many forms. In programming languages however, the main types of data is limited. It includes:\n",
    "### 1.1. Numbers\n",
    "In Python, numbers have mostly two forms:  \n",
    "* Integers: Numbers without decimals  \n",
    "* Floats: Numbers with decimal  \n",
    "* Boolean: True or False  \n",
    "  \n",
    "Although in our day to day life we use integers and floats, boolean are not so common. In programming though, boolean are very important. They are the building block of most logic operations by determine if something is True or False and thus they have their own separate data type. The boolean data type requires much less space than the other data types, in a way to make the program run more efficiently.  \n",
    "#### Examples  \n",
    "The examples below ask for the type of each of two different numbers.  "
   ]
  },
  {
   "cell_type": "code",
   "execution_count": 1,
   "metadata": {},
   "outputs": [
    {
     "name": "stdout",
     "output_type": "stream",
     "text": [
      "<class 'int'>\n",
      "<class 'float'>\n",
      "<class 'bool'>\n"
     ]
    }
   ],
   "source": [
    "print(type(1))\n",
    "print(type(1.0))\n",
    "print(type(True))"
   ]
  },
  {
   "cell_type": "markdown",
   "metadata": {},
   "source": [
    "### 1.2. Text\n",
    "Text in Python is stored in a data type called strings. Strings store everything from one character to a full novel.   \n",
    "Strings can conserve the form of a novel by adding special characters like the one for making a new line.   \n",
    "Strings also can be accessed character by character by using square brackets and asking for the specific character one wants.\n",
    "\n",
    "#### Examples"
   ]
  },
  {
   "cell_type": "code",
   "execution_count": 2,
   "metadata": {},
   "outputs": [
    {
     "name": "stdout",
     "output_type": "stream",
     "text": [
      "<class 'str'>\n",
      "e\n"
     ]
    }
   ],
   "source": [
    "print(type(\"Hello World!\"))\n",
    "print(\"Hello World!\"[1])"
   ]
  },
  {
   "cell_type": "markdown",
   "metadata": {},
   "source": [
    "### 1.3. Data structures\n",
    "Numbers and text the basic types of data. Sometimes however, you want to use multiple data types together and find them when needed. You use data structures for this. Every programming language has its own data structures. Most have lists and dictionaries.\n",
    "\n",
    "#### 1.3.1 Lists\n",
    "Lists are a way of putting data together in one place. Each element of the data can be made of different data types or can be of the same one.   \n",
    "Just as in a string, you can access an element from a list by using square brackets and giving the number of the element you want.  \n",
    "In Python lists are specified by using square brackets: []\n",
    "\n",
    "#### Example\n",
    "Below we show two lists with the information of one person. It includes its name (string), birth year (integer), height (float), and whether it is true that the person is alive or not (Boolean). \n",
    "\n",
    "**Note:** The height is not real.  "
   ]
  },
  {
   "cell_type": "code",
   "execution_count": 3,
   "metadata": {},
   "outputs": [
    {
     "name": "stdout",
     "output_type": "stream",
     "text": [
      "['Michael Jordan', 1963, 1.98, True]\n",
      "Michael Jordan\n",
      "<class 'list'>\n",
      "['Earl Lloyd', 1924, 1.96, False]\n",
      "<class 'list'>\n",
      "False\n"
     ]
    }
   ],
   "source": [
    "print([\"Michael Jordan\", 1963, 1.98, True])\n",
    "print([\"Michael Jordan\", 1963, 1.98, True][0]) # outputs the name of the person in the list\n",
    "print(type([\"Michael Jordan\", 1963, 1.98, True]))\n",
    "print([\"Earl Lloyd\", 1924, 1.96, False])\n",
    "print(type([\"Earl Lloyd\", 1924, 1.96, False]))\n",
    "print([\"Earl Lloyd\", 1924, 1.96, False][3]) # is this person alive?"
   ]
  },
  {
   "cell_type": "markdown",
   "metadata": {},
   "source": [
    "#### 1.3.2 Dictionaries  \n",
    "Dictionaries link two pieces of data together. One piece is the key and the other piece the value. \n",
    "In PYthon dictionaries are specified with curly brackets: {}.  \n",
    "You can add several entries when making the dictionary or make an empty dictionary.   \n",
    "To access a dictionary, you need to use the key in order to get the value, not with a number.  \n",
    "Dictionaries allow you to store data in a way that maintains the meaning of the information stored.  \n",
    "\n",
    "#### Example  \n",
    "Below we build a dictionary with the data of both basketball players from before."
   ]
  },
  {
   "cell_type": "code",
   "execution_count": 28,
   "metadata": {},
   "outputs": [
    {
     "name": "stdout",
     "output_type": "stream",
     "text": [
      "{'name': 'Michael Jordan', 'year of birth': 1963, 'height': 1.98, 'alive': True}\n",
      "<class 'dict'>\n",
      "{'name': 'Earl Lloyd', 'year of birth': 1963, 'height': 1.96, 'alive': False}\n"
     ]
    }
   ],
   "source": [
    "mj = {\"name\": \"Michael Jordan\", \"year of birth\": 1963, \"height\": 1.98, \"alive\": True}\n",
    "print(mj)\n",
    "print(type(mj))\n",
    "el = {\"name\": \"Earl Lloyd\"}\n",
    "el[\"year of birth\"] = 1963\n",
    "el[\"height\"] = 1.96\n",
    "el[\"alive\"] = False\n",
    "print(el)"
   ]
  },
  {
   "cell_type": "markdown",
   "metadata": {},
   "source": [
    "### 1.4 Further data structures\n",
    "One can keep building more complex data structures. Here we just present one in order to explain why more complex data structures are important.  \n",
    "\n",
    "\n",
    "### Example\n",
    "To do this we use a library called pandas. To use a library one uses the import command. Then one needs to add a \".\" after the name of the library to invoke a function. Here we use the DataFrame function and give it the two dictionaries with the data of the basketball players. Pandas dataframes are used extensively in data science.\\ as they allowedto create a more organized repository for the data. Instead of having multiple lists one can have all the data in one place."
   ]
  },
  {
   "cell_type": "code",
   "execution_count": 29,
   "metadata": {},
   "outputs": [
    {
     "data": {
      "text/html": [
       "<div>\n",
       "<style scoped>\n",
       "    .dataframe tbody tr th:only-of-type {\n",
       "        vertical-align: middle;\n",
       "    }\n",
       "\n",
       "    .dataframe tbody tr th {\n",
       "        vertical-align: top;\n",
       "    }\n",
       "\n",
       "    .dataframe thead th {\n",
       "        text-align: right;\n",
       "    }\n",
       "</style>\n",
       "<table border=\"1\" class=\"dataframe\">\n",
       "  <thead>\n",
       "    <tr style=\"text-align: right;\">\n",
       "      <th></th>\n",
       "      <th>name</th>\n",
       "      <th>year of birth</th>\n",
       "      <th>height</th>\n",
       "      <th>alive</th>\n",
       "    </tr>\n",
       "  </thead>\n",
       "  <tbody>\n",
       "    <tr>\n",
       "      <td>0</td>\n",
       "      <td>Michael Jordan</td>\n",
       "      <td>1963</td>\n",
       "      <td>1.98</td>\n",
       "      <td>True</td>\n",
       "    </tr>\n",
       "    <tr>\n",
       "      <td>1</td>\n",
       "      <td>Earl Lloyd</td>\n",
       "      <td>1963</td>\n",
       "      <td>1.96</td>\n",
       "      <td>False</td>\n",
       "    </tr>\n",
       "  </tbody>\n",
       "</table>\n",
       "</div>"
      ],
      "text/plain": [
       "             name  year of birth  height  alive\n",
       "0  Michael Jordan           1963    1.98   True\n",
       "1      Earl Lloyd           1963    1.96  False"
      ]
     },
     "execution_count": 29,
     "metadata": {},
     "output_type": "execute_result"
    }
   ],
   "source": [
    "import pandas\n",
    "pandas.DataFrame([mj, el])"
   ]
  },
  {
   "cell_type": "markdown",
   "metadata": {},
   "source": [
    "One can get a column from a dataframe by writing a period and the column name after the dataframe is defined. In the example below we get the names of the basketball players."
   ]
  },
  {
   "cell_type": "code",
   "execution_count": 7,
   "metadata": {},
   "outputs": [
    {
     "data": {
      "text/plain": [
       "0    Michael Jordan\n",
       "1        Earl Lloyd\n",
       "Name: name, dtype: object"
      ]
     },
     "execution_count": 7,
     "metadata": {},
     "output_type": "execute_result"
    }
   ],
   "source": [
    "pandas.DataFrame([mj, el]).name"
   ]
  },
  {
   "cell_type": "markdown",
   "metadata": {},
   "source": [
    "This is enough information on data and data structures. We now explain how to ask for data, store it, and show it to the user. "
   ]
  },
  {
   "cell_type": "markdown",
   "metadata": {},
   "source": [
    "## 2. Input, Output, and Storage\n",
    "There are three main ways of interacting with data. you can ask the user (input), show the user (output) or store it for interal use (storage). We start with example that includes all of the above. \n",
    "### Example\n",
    "Below we ask for your name and welcome you.  \n",
    "To do this we first use a print function. Print is the standard way in which programming languages output data. In this example it outputs a question, asking you your name.  \n",
    "After this, it asks you to write your name. You see this as a box opening up in your borswer. After you write your name and press enter, what you wrote is stored into a variable called name. This variable is used in the last line to say hello to you. "
   ]
  },
  {
   "cell_type": "code",
   "execution_count": 2,
   "metadata": {},
   "outputs": [
    {
     "name": "stdout",
     "output_type": "stream",
     "text": [
      "What is your name?\n",
      "Earl Lloyd\n",
      "Hello Earl Lloyd nice to meet you!\n"
     ]
    }
   ],
   "source": [
    "print(\"What is your name?\")\n",
    "name = input()\n",
    "print(\"Hello \" + name + \" nice to meet you!\")"
   ]
  },
  {
   "cell_type": "markdown",
   "metadata": {},
   "source": [
    "### 2.1 Input\n",
    "There are several ways of getting data from the world. One standard way is asking the user. Every time you fill a form, you are inputing data. Other forms is opening files with data. Here we just present the input function. \n",
    "\n",
    "### 2.2 Output \n",
    "Just as input can happen in multiple ways, output can as well. The most common is print, which outputs the data to your screen.  \n",
    "One important aspect of the output function is that it can just print values of the same data type. An easy, way of avoiding errors is by using the str() function that converts any variable into a string.  \n",
    "\n",
    "### 2.3 Storage\n",
    "This is by far the more varied of the three. You can store variables as a new variable, as a part of an already existing data structure, or even write them to files. Below we present a couple of these. \n",
    "\n",
    "#### Examples\n",
    "The example is the same as before, but we fill out a dictionary with your inputs. However, the inputs are always taken as strings. Note that the code assumes you are alive."
   ]
  },
  {
   "cell_type": "code",
   "execution_count": 7,
   "metadata": {},
   "outputs": [
    {
     "name": "stdout",
     "output_type": "stream",
     "text": [
      "What is your name?\n",
      "Michael Jordan\n",
      "What is your year of birth?\n",
      "1963\n",
      "What is your height?\n",
      "1.98\n",
      "{'name': 'Michael Jordan', 'year_of bith': '1963', 'height': '1.98', 'alive': True}\n",
      "<class 'str'>\n"
     ]
    }
   ],
   "source": [
    "print(\"What is your name?\")\n",
    "personal_data = {\"name\": input()}\n",
    "print(\"What is your year of birth?\")\n",
    "personal_data[\"year_of bith\"] = input()\n",
    "print(\"What is your height?\")\n",
    "personal_data[\"height\"] = input()\n",
    "personal_data[\"alive\"] = True\n",
    "print(personal_data)\n",
    "print(type(personal_data[\"height\"]))"
   ]
  },
  {
   "cell_type": "markdown",
   "metadata": {},
   "source": [
    "## 3. Logic\n",
    "Logic is the central strength of programming. Programs can do the same task a million times in the same way and do it accuratgely. For this reason they are great for automating known tasks.  \n",
    "There are three main logic functions:\n",
    "* For-loops\n",
    "* If-statements\n",
    "* While-statements\n",
    "We present them below. \n",
    "\n",
    "### 3.1 For loops\n",
    "For-loops are a way of doing the same thing multiple times. \n",
    "\n",
    "#### Example\n",
    "Below we create a variable called range1. This variable includes the numbers from 0 to 9. This variable is used in a for-loop which takes each value in range1, prints the number in decimal form and then in binary form.  \n",
    "The print fucntion combines strings (e.g. \"Integer \") with integers (e.g. value) and also uses a function bin() that converts integers to boolean strings.  "
   ]
  },
  {
   "cell_type": "code",
   "execution_count": 8,
   "metadata": {},
   "outputs": [
    {
     "name": "stdout",
     "output_type": "stream",
     "text": [
      "Integer 0 in binary:0b0\n",
      "Integer 1 in binary:0b1\n",
      "Integer 2 in binary:0b10\n",
      "Integer 3 in binary:0b11\n",
      "Integer 4 in binary:0b100\n",
      "Integer 5 in binary:0b101\n",
      "Integer 6 in binary:0b110\n",
      "Integer 7 in binary:0b111\n",
      "Integer 8 in binary:0b1000\n",
      "Integer 9 in binary:0b1001\n",
      "Integer 9 in binary:0b1001\n"
     ]
    }
   ],
   "source": [
    "range1 = [0,1,2,3,4,5,6,7,8,9, 9]\n",
    "for value in range1:\n",
    "    print(\"Integer \" + str(value) + \" in binary:\" + bin(value))"
   ]
  },
  {
   "cell_type": "markdown",
   "metadata": {},
   "source": [
    "In the previous example we ran the for-loop from 0 to 9. We can do a shorter of longer loop with the help of the range() function. This function creates values from 0 to the value given minus one. In the example below, we ask for the number of items you want to see converted to binary and then run the for-loop form above.  \n",
    "Another thing you can do is to remove the # character in the code. This will give the value of 10 to the for-loop, indepdent of what you asked for before. \n",
    "\n",
    "**Note:** In the input stage we convert the input to an integer. If you provide a letter you will break the code. Nothing bad will happen. You will just receive an error message and you will just need to run the code again. "
   ]
  },
  {
   "cell_type": "code",
   "execution_count": 9,
   "metadata": {},
   "outputs": [
    {
     "name": "stdout",
     "output_type": "stream",
     "text": [
      "5\n",
      "Integer 0 in binary:0b0\n",
      "Integer 1 in binary:0b1\n",
      "Integer 2 in binary:0b10\n",
      "Integer 3 in binary:0b11\n",
      "Integer 4 in binary:0b100\n"
     ]
    }
   ],
   "source": [
    "num_of_times = int(input())\n",
    "#num_of_times = 10 # this does the same as the code above\n",
    "\n",
    "for value in range(num_of_times):\n",
    "    print(\"Integer \" + str(value) + \" in binary:\" + bin(value))"
   ]
  },
  {
   "cell_type": "markdown",
   "metadata": {},
   "source": [
    "You can create for loops with any type of data. Below we show them with strings, lists, and dictionaries. Note that in the case of the dictionary the for-loop goes through the keys of the dictionary, to access the values, you need to do it directly. \n",
    "\n",
    "**Note:** Below we use the character \"\\n\" this character prints an \"enter\" making a space between outputs."
   ]
  },
  {
   "cell_type": "code",
   "execution_count": 10,
   "metadata": {},
   "outputs": [
    {
     "name": "stdout",
     "output_type": "stream",
     "text": [
      "First a string\n",
      "M\n",
      "i\n",
      "c\n",
      "h\n",
      "a\n",
      "e\n",
      "l\n",
      " \n",
      "J\n",
      "o\n",
      "r\n",
      "d\n",
      "a\n",
      "n\n",
      "\n",
      "Now a list\n",
      "Michael Jordan\n",
      "1963\n",
      "1.98\n",
      "True\n",
      "\n",
      "Now a dictionary\n",
      "name: Earl Lloyd\n",
      "year of birth: 1963\n",
      "height: 1.98\n",
      "alive: False\n"
     ]
    }
   ],
   "source": [
    "list1 = ['Michael Jordan', 1963, 1.98, True]\n",
    "\n",
    "print(\"First a string\")\n",
    "for value in \"Michael Jordan\":\n",
    "    print(value)\n",
    "print(\"\\nNow a list\")\n",
    "for value in list1:\n",
    "    print(value)\n",
    "print(\"\\nNow a dictionary\")\n",
    "for value in el:\n",
    "    print(value + \": \" + str(el[value]))"
   ]
  },
  {
   "cell_type": "markdown",
   "metadata": {},
   "source": [
    "### 3.2 If-statements\n",
    "The for-loop do things multiple times. Many times however, we want to do something only when a specific combination of conditions comes about. For this you us an if-statement.  \n",
    "\n",
    "#### Example\n",
    "An if-statement in Python is written in three steps. \n",
    "Below yu see one prototypical if-statement. We first define a variable. This variable is a 3. In the first statement we ask if the variable is equalt to 1. If it is then we print that option 1 was chosen. If option one was not chosen, we then go to the second statement. This second statement is written elif in Python, it is the shortened version of \"else if\". Its job is to continue the same statement from above. If now the value is 2 then we enter that case and tell the user that the second condition was chosen. For any other value not specified before, we get to the third value, the \"else\" statement which tells the user that a invalid option was chosen. "
   ]
  },
  {
   "cell_type": "code",
   "execution_count": 11,
   "metadata": {},
   "outputs": [
    {
     "name": "stdout",
     "output_type": "stream",
     "text": [
      "You did not choose a valid option\n"
     ]
    }
   ],
   "source": [
    "which_condition = 3\n",
    "\n",
    "if which_condition == 1:\n",
    "    print(\"You chose condition 1\")\n",
    "elif which_condition == 2:\n",
    "    print(\"You chose condition 2\")\n",
    "else: print(\"You did not choose a valid option\")    "
   ]
  },
  {
   "cell_type": "markdown",
   "metadata": {},
   "source": [
    "We can join if-statements and for-loops. Below we have a code that uses every value from 0 to 9 and asks if the value if equal to 5. If it is, then it prints yes, if not, then it prints no. "
   ]
  },
  {
   "cell_type": "code",
   "execution_count": 12,
   "metadata": {},
   "outputs": [
    {
     "name": "stdout",
     "output_type": "stream",
     "text": [
      "no\n",
      "no\n",
      "no\n",
      "no\n",
      "no\n",
      "yes\n",
      "no\n",
      "no\n",
      "no\n",
      "no\n"
     ]
    }
   ],
   "source": [
    "for i in range(10):\n",
    "    if i == 5:\n",
    "        print(\"yes\")\n",
    "    else: \n",
    "        print(\"no\")"
   ]
  },
  {
   "cell_type": "markdown",
   "metadata": {},
   "source": [
    "We can also ask users for input. In the example below, we ask users for an input. If the input is stop then the code prints that it will stop asking. The case also includes the word \"break\" this is an instruction for the for-loop, it makes the for-loop to stop its execution even if there are many cases left. You can try commenting the code by adding a # before break and see how \"now I stop asking\" will be printed serveral times as the for loop continues "
   ]
  },
  {
   "cell_type": "code",
   "execution_count": 13,
   "metadata": {},
   "outputs": [
    {
     "name": "stdout",
     "output_type": "stream",
     "text": [
      "0\n",
      "1\n",
      "2\n",
      "3\n",
      "4\n",
      "5\n",
      "STOP\n",
      "Stop\n",
      "stop\n",
      "now I stop asking\n"
     ]
    }
   ],
   "source": [
    "b = 1\n",
    "for i in range(10):\n",
    "    if b == \"stop\":\n",
    "        print(\"now I stop asking\")\n",
    "        break\n",
    "    else:\n",
    "        b = input()"
   ]
  },
  {
   "cell_type": "markdown",
   "metadata": {},
   "source": [
    "### 3.3 While statements\n",
    "For-loops run for a limited number of times. sometimes, we want to wait until the right set of conditions are met. If the conditions are not met, we stay in the same state forever. For this we use a while-statement.  \n",
    "\n",
    "#### Example\n",
    "The example below can be seen as a login interface to a website. This website asks you only for your password. If you give a wrong password you will be asked againg. If you know the password you will be allowed in the account.  \n",
    "The code from before has many limitations. Imagine that someone has a list of common passwords and tries all of them to see if the account owner used one of them."
   ]
  },
  {
   "cell_type": "code",
   "execution_count": 19,
   "metadata": {},
   "outputs": [
    {
     "name": "stdout",
     "output_type": "stream",
     "text": [
      "0000\n",
      "1111\n",
      "0123\n",
      "1234\n",
      "Welcome to your account!\n"
     ]
    }
   ],
   "source": [
    "b = 1\n",
    "while b != \"1234\":\n",
    "    b = input()\n",
    "print(\"Welcome to your account!\")"
   ]
  },
  {
   "cell_type": "markdown",
   "metadata": {},
   "source": [
    "This interface has the problem of being very easy to crack. For example the code below can give access to your account in very little time. Below we present a code that exploits that weakness."
   ]
  },
  {
   "cell_type": "markdown",
   "metadata": {},
   "source": [
    "## 4. Functions\n",
    "So far we have written down most of the code ourselves. However many times we want to use functions made by other people or even make functions to give other people. In this section we present how to use functions from others by importing libraries and how to create our own functions. \n",
    "\n",
    "### 4.1 Built-in functions\n",
    "Python has many functions built in. We have already used several of them already. Below you will find some others.\n",
    "\n",
    "#### Example"
   ]
  },
  {
   "cell_type": "code",
   "execution_count": 15,
   "metadata": {},
   "outputs": [
    {
     "data": {
      "text/plain": [
       "str"
      ]
     },
     "execution_count": 15,
     "metadata": {},
     "output_type": "execute_result"
    }
   ],
   "source": [
    "type(\"Hello\")"
   ]
  },
  {
   "cell_type": "code",
   "execution_count": 19,
   "metadata": {},
   "outputs": [
    {
     "data": {
      "text/plain": [
       "5"
      ]
     },
     "execution_count": 19,
     "metadata": {},
     "output_type": "execute_result"
    }
   ],
   "source": [
    "len(\"Hello\")"
   ]
  },
  {
   "cell_type": "code",
   "execution_count": 20,
   "metadata": {},
   "outputs": [
    {
     "data": {
      "text/plain": [
       "'5'"
      ]
     },
     "execution_count": 20,
     "metadata": {},
     "output_type": "execute_result"
    }
   ],
   "source": [
    "str(5)"
   ]
  },
  {
   "cell_type": "code",
   "execution_count": 21,
   "metadata": {},
   "outputs": [
    {
     "data": {
      "text/plain": [
       "'0b101'"
      ]
     },
     "execution_count": 21,
     "metadata": {},
     "output_type": "execute_result"
    }
   ],
   "source": [
    "bin(5)"
   ]
  },
  {
   "cell_type": "code",
   "execution_count": 22,
   "metadata": {},
   "outputs": [
    {
     "name": "stdout",
     "output_type": "stream",
     "text": [
      "1\n",
      "5\n",
      "-5\n"
     ]
    }
   ],
   "source": [
    "print(sum([-5, -4, -3, -2, 0, 1, 2, 3, 4, 5]))\n",
    "print(max([-5, -4, -3, -2, 0, 1, 2, 3, 4, 5]))\n",
    "print(min([-5, -4, -3, -2, 0, 1, 2, 3, 4, 5]))"
   ]
  },
  {
   "cell_type": "markdown",
   "metadata": {},
   "source": [
    "You can learn more about every function we have used by using the function help(). If you input help() you will be asked for which function you need help from. You can also ask directly by giving the name of the function, without parenthesis to help. "
   ]
  },
  {
   "cell_type": "code",
   "execution_count": 24,
   "metadata": {},
   "outputs": [
    {
     "name": "stdout",
     "output_type": "stream",
     "text": [
      "Help on built-in function max in module builtins:\n",
      "\n",
      "max(...)\n",
      "    max(iterable, *[, default=obj, key=func]) -> value\n",
      "    max(arg1, arg2, *args, *[, key=func]) -> value\n",
      "    \n",
      "    With a single iterable argument, return its biggest item. The\n",
      "    default keyword-only argument specifies an object to return if\n",
      "    the provided iterable is empty.\n",
      "    With two or more arguments, return the largest argument.\n",
      "\n"
     ]
    }
   ],
   "source": [
    "help(max)"
   ]
  },
  {
   "cell_type": "markdown",
   "metadata": {},
   "source": [
    "### 4.2 Import libraries\n",
    "Python has many good libraries. In this tutorial we already used pandas. Pandas is a library used in data analysis. It allowes you to have functionalities that the data structures native from Python (e.g. lists, dictionaries) do not allow for.  \n",
    "There are many other libraries. But also Python has many functions already loaded in itself. You  can use all the functions from Python and also every function from a library by using the import command. \n",
    "\n",
    "#### Example\n",
    "The example below builds a code to measure your reaction time. It first outputs instructions. Then it asks you for an input in case you understood what you need to do. The input is converted to lower case characters using a functionality of the strings, a function called lower().   \n",
    "If you understood, we wait for 3.14 seconds and then we store the current time by using the function time() from the time library. This is done by calling the function as time.time().  \n",
    "After the time is stored, we ask the user of an input. After the input is given, we ask for the current time and estimate your reaction time. WE show you the reaction time using the round() function which rounds a float number to N digits of precision, in this case we specify 3 digits."
   ]
  },
  {
   "cell_type": "code",
   "execution_count": 25,
   "metadata": {},
   "outputs": [
    {
     "name": "stdout",
     "output_type": "stream",
     "text": [
      "Welcome to the reaction time estimator. \n",
      " After you read the instructions and write 'Y' we will estimate your reaction time.\n",
      "For this we will open a new input bar. You do not know when it will open. After you see the bar, please press enter as fast as you can.\n",
      "The faster you press, the lower your reaction time.\n",
      "Understood: [Y/N]\n",
      "y\n",
      " \n",
      "Your reaction time is: 0.468 seconds.\n"
     ]
    }
   ],
   "source": [
    "import time\n",
    "\n",
    "print(\"Welcome to the reaction time estimator. \\n After you read the instructions and write 'Y' we will estimate your reaction time.\")\n",
    "print(\"For this we will open a new input bar. You do not know when it will open. After you see the bar, please press enter as fast as you can.\")\n",
    "print(\"The faster you press, the lower your reaction time.\")\n",
    "print(\"Understood: [Y/N]\")\n",
    "understood = input().lower()\n",
    "if understood == \"y\":\n",
    "    time.sleep(3.14159265359)\n",
    "    start_time = time.time()\n",
    "    input()\n",
    "    end_time = time.time()\n",
    "    reaction_time = end_time - start_time\n",
    "    print(\"Your reaction time is: \" + str(round(reaction_time,3)) + \" seconds.\")\n",
    "else: print(\"We will try to improve the instructions for the next time.\")"
   ]
  },
  {
   "cell_type": "markdown",
   "metadata": {},
   "source": [
    "### 4.3 Define functions\n",
    "Before we either wrote the code that we were running or we borrowed the code from others. We can also define functions that run our code. The function definition follows the form shown below.  \n",
    "\n",
    "#### Example: Translator\n",
    "First you need to define the name for the function. In this case it is called learn_french. This function takes one value to determine how you want to learn French. You can choose the whether you want to learn French forever, or just a number of times. If you do not pass a value, you will have five tries to learn French. If you pass False, you will be given a goodbye message.  \n",
    "The function has two ways of doing the same work. If you ask forever = True, then the function asks for an input. If the input is either \"Guten Morgen\" pr \"Ich liebe dich\" then the function will output a known translation. If the input was anything else, the function will call itself again. This will continue forever until a known phrase is given. This behavior is similar to a while-statement but instead of a while-statement it uses something called recursion. The function calls itself indefinitely until the user does something to break the loop.  \n",
    "If you do not want to be stuck in the recursive loop, you can give input an integer to the function or avoid giving a value. The function will then run for 5 times if no value was given or for the number of times you provided. The function here instead uses a dictionary to translate between German and French. The dictionary has two entries, the same as above. After the dictionary is stored, a for-loop starts. It asks for an input and if the input is part of the keys of the translator then it prints the translation. If not, the function passes and the for-loop increases by one. The function is finished when either a known entry is given or the for-loop ends. "
   ]
  },
  {
   "cell_type": "code",
   "execution_count": 26,
   "metadata": {},
   "outputs": [
    {
     "name": "stdout",
     "output_type": "stream",
     "text": [
      "0\n",
      "1\n",
      "2\n",
      "3\n",
      "Guten Morgen\n",
      "Guten Morgen = Bonjour\n"
     ]
    }
   ],
   "source": [
    "def learn_french(forever = 5):\n",
    "    if forever == True:\n",
    "        w = input()\n",
    "        if w == \"Guten Morgen\":\n",
    "            print (\"Guten Morgen = Bonjour\")\n",
    "        elif w == \"Ich liebe dich\":\n",
    "            print (\"Ich liebe dich = je taime\")\n",
    "        else: learn_french(forever)\n",
    "    elif type(forever) == int:\n",
    "        translator =  {\"Guten Morgen\": \"Bonjour\"}\n",
    "        translator[\"Ich liebe dich\"] = \"Je t'aime\"\n",
    "        for i in range(forever):\n",
    "            w = input()\n",
    "            if w in translator:\n",
    "                print (w + \" = \" + translator[w])\n",
    "                break\n",
    "            else: pass\n",
    "    else: print(\"Please come back when you want to learn French.\")    \n",
    "            \n",
    "learn_french()"
   ]
  },
  {
   "cell_type": "code",
   "execution_count": 27,
   "metadata": {},
   "outputs": [
    {
     "name": "stdout",
     "output_type": "stream",
     "text": [
      "0\n",
      "1\n",
      "2\n",
      "3\n",
      "4\n",
      "5\n",
      "Ich liebe Dich\n",
      "ich liebe dich\n",
      "Ich liebe dich\n",
      "Ich liebe dich = je taime\n"
     ]
    }
   ],
   "source": [
    "learn_french(forever = True)"
   ]
  },
  {
   "cell_type": "code",
   "execution_count": 28,
   "metadata": {},
   "outputs": [
    {
     "name": "stdout",
     "output_type": "stream",
     "text": [
      "Please come back when you want to learn French.\n"
     ]
    }
   ],
   "source": [
    "learn_french(False)"
   ]
  },
  {
   "cell_type": "markdown",
   "metadata": {},
   "source": [
    "## 5. Classes\n",
    "Classes are a type of structures that join the functionalities of data types and functions. They are what is known as an object. Obejct have information but can also perform actions. We already used objects before. For example the string datatypes are object. To use the functions in an obejct, one needs to make the object and then ad a period and the name of the function.\n",
    "\n",
    "### Example\n",
    "Below we see how one to access a string object\n"
   ]
  },
  {
   "cell_type": "code",
   "execution_count": 21,
   "metadata": {},
   "outputs": [
    {
     "data": {
      "text/plain": [
       "'Hello!'"
      ]
     },
     "execution_count": 21,
     "metadata": {},
     "output_type": "execute_result"
    }
   ],
   "source": [
    "\"Hello!\""
   ]
  },
  {
   "cell_type": "code",
   "execution_count": 20,
   "metadata": {},
   "outputs": [
    {
     "data": {
      "text/plain": [
       "'hello!'"
      ]
     },
     "execution_count": 20,
     "metadata": {},
     "output_type": "execute_result"
    }
   ],
   "source": [
    "\"Hello!\".lower()"
   ]
  },
  {
   "cell_type": "code",
   "execution_count": 22,
   "metadata": {},
   "outputs": [
    {
     "data": {
      "text/plain": [
       "'HELLO!'"
      ]
     },
     "execution_count": 22,
     "metadata": {},
     "output_type": "execute_result"
    }
   ],
   "source": [
    "\"Hello!\".upper()"
   ]
  },
  {
   "cell_type": "markdown",
   "metadata": {},
   "source": [
    "## Example: Password cracker\n",
    "We will create a class to build a password manager and then crack it as our last example.  \n",
    "Before we defined an interface where a while-statement kept asking for a password endlessly until it received a correct value. Now that we know how to create functions we can create something closer to a real passoword manager and crack it. "
   ]
  },
  {
   "cell_type": "code",
   "execution_count": 63,
   "metadata": {},
   "outputs": [
    {
     "name": "stdout",
     "output_type": "stream",
     "text": [
      "Please input a password in numbers between 0 and 999999: 987654\n",
      "Input your credit card number: 4320161944944193\n",
      "Input your PIN: 1963\n",
      "Password craking starting now!\n",
      "Welcome to your account! \n",
      "We are sending you your personal information:\n",
      "\n",
      "We cracked it! \n",
      "It just took: 0.17799 seconds!\n",
      "\n",
      "The password was: 987654\n",
      "The stored information was:\n",
      "{'credit_card': '4320161944944193', 'PIN': '1963'}\n"
     ]
    }
   ],
   "source": [
    "class password_manager:\n",
    "    def __init__(self, password, personal_data):\n",
    "        self.password = password\n",
    "        self.personal_data = personal_data\n",
    "    def change_password(self, password):\n",
    "        self.password = password\n",
    "    def login(self, password):\n",
    "        if password == self.password:\n",
    "            print(\"Welcome to your account! \\nWe are sending you your personal information:\")\n",
    "            return(self.personal_data)\n",
    "        else: return(False)\n",
    "\n",
    "# Create user account\n",
    "password = int(input(\"Please input a password in numbers between 0 and 999999: \"))\n",
    "credit_card = input(\"Input your credit card number: \")\n",
    "PIN = input(\"Input your PIN: \")\n",
    "manager = password_manager(password = password , personal_data = {\"credit_card\": credit_card , \"PIN\": PIN})                  \n",
    "\n",
    "# Password cracking code\n",
    "print(\"Password craking starting now!\")\n",
    "start_time = time.time()\n",
    "data = False\n",
    "for password_trial in range(1000000):\n",
    "    data = manager.login(password_trial)\n",
    "    if data != False: break\n",
    "print(\"\\nWe cracked it! \\nIt just took: \" + str(round(time.time()-start_time,5)) + \" seconds!\\n\")\n",
    "print(\"The password was: \" + str(password_trial))\n",
    "print(\"The stored information was:\")\n",
    "print(data)"
   ]
  },
  {
   "cell_type": "markdown",
   "metadata": {},
   "source": [
    "Thank you for taking your time and using this tutorial. We have gone through the basics of programming in Python, with this you should be able to go on your own and explore. There are many longer tutorials, and starter projects that will teach you how to program more. Feel free to look on your own. One thing you will learn while programming is that any problem you have at the moment was a problem someone had before. Ask Google for help, there is a larger community that has posted answers to your questions.  \n",
    "Enjoy! "
   ]
  },
  {
   "cell_type": "code",
   "execution_count": 37,
   "metadata": {},
   "outputs": [],
   "source": [
    "import time"
   ]
  },
  {
   "cell_type": "code",
   "execution_count": null,
   "metadata": {},
   "outputs": [],
   "source": []
  }
 ],
 "metadata": {
  "kernelspec": {
   "display_name": "Python 3",
   "language": "python",
   "name": "python3"
  },
  "language_info": {
   "codemirror_mode": {
    "name": "ipython",
    "version": 3
   },
   "file_extension": ".py",
   "mimetype": "text/x-python",
   "name": "python",
   "nbconvert_exporter": "python",
   "pygments_lexer": "ipython3",
   "version": "3.7.3"
  }
 },
 "nbformat": 4,
 "nbformat_minor": 2
}
