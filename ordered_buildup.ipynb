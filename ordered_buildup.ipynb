{
 "cells": [
  {
   "cell_type": "markdown",
   "metadata": {},
   "source": [
    "# Ordered Bandit Buildup\n",
    "\n",
    "The idea is that everyone gets the bandits in the same order, independent of how much they exploited in between explorations. \n",
    "The script below builds exactly what I need and a short \"behavioral example\" of a choice pattern and how the bandit is presented. \n",
    "\n",
    "I do not know what language you use. But you can run the code at this address:\n",
    "https://mybinder.org/v2/gh/jparrieta/primer/master/ordered_buildup.ipynb\n",
    "\n",
    "Just follow the link and after some waiting you can run the code. Alternatively, run the jupyter notebook.\n"
   ]
  },
  {
   "cell_type": "code",
   "execution_count": 23,
   "metadata": {},
   "outputs": [
    {
     "name": "stdout",
     "output_type": "stream",
     "text": [
      "Choose and option please (i.e. 0, 1, 2, 3): 0\n",
      "Current payoff: 0\n",
      "Choose and option please (i.e. 0, 1, 2, 3): 0\n",
      "Current payoff: 0\n",
      "Choose and option please (i.e. 0, 1, 2, 3): 3\n",
      "Bandit 1 added as 3\n",
      "Current payoff: 1\n",
      "Choose and option please (i.e. 0, 1, 2, 3): 2\n",
      "Bandit 2 added as 2\n",
      "Current payoff: 2\n",
      "Choose and option please (i.e. 0, 1, 2, 3): 3\n",
      "Current payoff: 1\n",
      "Choose and option please (i.e. 0, 1, 2, 3): 2\n",
      "Current payoff: 2\n",
      "Choose and option please (i.e. 0, 1, 2, 3): 1\n",
      "Bandit 3 added as 1\n",
      "Current payoff: 3\n",
      "Buildup of bandit dictionary finished!\n",
      "The final bandit order was: {0: 0, 1: 3, 2: 2, 3: 1}\n",
      "The original choices were: [0, 0, 3, 2, 3, 2, 1]\n",
      "The which in reality mean: [0, 0, 1, 2, 1, 2, 3]\n"
     ]
    }
   ],
   "source": [
    "num_periods = 10\n",
    "bandits = [[i]*num_periods for i in range(4)]\n",
    "order_log = {}\n",
    "ordered_bandits = {}\n",
    "ordered_bandits[0] = bandits[0]\n",
    "order_log[0] = 0\n",
    "last_added = 0\n",
    "choice_log = []\n",
    "for i in range(num_periods):\n",
    "    try:\n",
    "        if len(ordered_bandits) < 4:\n",
    "            choice = -1\n",
    "            while choice not in [0, 1, 2, 3]: \n",
    "                choice = int(input(\"Choose and option please (i.e. 0, 1, 2, 3): \"))\n",
    "            choice_log += [choice]\n",
    "            payoff = ordered_bandits[choice][i]\n",
    "            print(\"Current payoff: \" + str(payoff))\n",
    "        else:        \n",
    "            print(\"Buildup of bandit dictionary finished!\")\n",
    "            print(\"The final bandit order was: \" + str(order_log))\n",
    "            print(\"The original choices were: \" + str(choice_log))\n",
    "            translated_choices = [order_log[c] for c in choice_log]\n",
    "            print(\"The which in reality mean: \" + str(translated_choices))\n",
    "            break\n",
    "    except KeyError:\n",
    "        last_added += 1\n",
    "        order_log[last_added] = choice\n",
    "        ordered_bandits[choice] = bandits[last_added]\n",
    "        print(\"Bandit \" + str(last_added) + \" added as \" + str(choice))\n",
    "        payoff = ordered_bandits[choice][i]\n",
    "        print(\"Current payoff: \" + str(payoff))"
   ]
  },
  {
   "cell_type": "markdown",
   "metadata": {},
   "source": [
    "In the example, I exploit option 0 then explore option 3, then explore option 2. On these ocassions, the bandit dictionary is expanded. Then I do two other explorations but now with bandits that I have already explored before. Therefore, the bandits are not added. In the last step, I choose option 1 and it is added as the last bandits. \n",
    "\n",
    "I break the for-loop just there and output the log of bandits. AS you can see, the order of the bandits is given as the choice of the example. 0 to 0, 1 to 3, 2 to 2 and 3 to 1. With this log then I can translate the choices. Instead of 0 0 3 2 3 2 1 the bandits actually used were 0 0 1 2 1 2 3. By doing this, then the process can be transparent to data analysis. \n",
    "\n",
    "Thanks for your help! If anything is unclear, please let me know. "
   ]
  }
 ],
 "metadata": {
  "kernelspec": {
   "display_name": "Python 3",
   "language": "python",
   "name": "python3"
  },
  "language_info": {
   "codemirror_mode": {
    "name": "ipython",
    "version": 3
   },
   "file_extension": ".py",
   "mimetype": "text/x-python",
   "name": "python",
   "nbconvert_exporter": "python",
   "pygments_lexer": "ipython3",
   "version": "3.7.3"
  }
 },
 "nbformat": 4,
 "nbformat_minor": 2
}
