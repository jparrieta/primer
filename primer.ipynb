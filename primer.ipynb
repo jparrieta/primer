{
 "cells": [
  {
   "cell_type": "markdown",
   "metadata": {},
   "source": [
    "ttHIS IS A TUTORIAL "
   ]
  },
  {
   "cell_type": "code",
   "execution_count": 11,
   "metadata": {},
   "outputs": [
    {
     "name": "stdout",
     "output_type": "stream",
     "text": [
      "What is your name?\n",
      "fdcvcbnbvnbvnbv\n",
      "Hello fdcvcbnbvnbvnbv nice to meet you!\n"
     ]
    }
   ],
   "source": [
    "print(\"What is your name?\")\n",
    "a = input()\n",
    "print(\"Hello \" + a + \" nice to meet you!\")"
   ]
  },
  {
   "cell_type": "code",
   "execution_count": 2,
   "metadata": {},
   "outputs": [
    {
     "name": "stdout",
     "output_type": "stream",
     "text": [
      "Integer 0 in binary:0b0\n",
      "Integer 1 in binary:0b1\n",
      "Integer 2 in binary:0b10\n",
      "Integer 3 in binary:0b11\n",
      "Integer 4 in binary:0b100\n",
      "Integer 5 in binary:0b101\n",
      "Integer 6 in binary:0b110\n",
      "Integer 7 in binary:0b111\n",
      "Integer 8 in binary:0b1000\n",
      "Integer 9 in binary:0b1001\n",
      "Integer 10 in binary:0b1010\n"
     ]
    }
   ],
   "source": [
    "range1 = [0,1,2,3,4,5,6,7,8,9,10]\n",
    "for val in range1:\n",
    "    print(\"Integer \" + str(val) + \" in binary:\" + bin(val))\n",
    "    "
   ]
  },
  {
   "cell_type": "code",
   "execution_count": 12,
   "metadata": {},
   "outputs": [
    {
     "name": "stdout",
     "output_type": "stream",
     "text": [
      "f\n",
      "d\n",
      "c\n",
      "v\n",
      "c\n",
      "b\n",
      "n\n",
      "b\n",
      "v\n",
      "n\n",
      "b\n",
      "v\n",
      "n\n",
      "b\n",
      "v\n"
     ]
    }
   ],
   "source": [
    "for c in a:\n",
    "    print(c)"
   ]
  },
  {
   "cell_type": "code",
   "execution_count": 13,
   "metadata": {},
   "outputs": [
    {
     "name": "stdout",
     "output_type": "stream",
     "text": [
      "0\n",
      "1\n",
      "2\n",
      "3\n",
      "4\n",
      "5\n",
      "6\n",
      "7\n",
      "8\n",
      "9\n"
     ]
    }
   ],
   "source": [
    "for i in range(10):\n",
    "    print(i)"
   ]
  },
  {
   "cell_type": "code",
   "execution_count": 15,
   "metadata": {},
   "outputs": [
    {
     "name": "stdout",
     "output_type": "stream",
     "text": [
      "f\n",
      "d\n",
      "c\n",
      "v\n",
      "c\n",
      "b\n",
      "n\n",
      "b\n",
      "v\n",
      "n\n",
      "b\n",
      "v\n",
      "n\n",
      "b\n",
      "v\n"
     ]
    }
   ],
   "source": [
    "for i in range(len(a)):\n",
    "    print(a[i])"
   ]
  },
  {
   "cell_type": "code",
   "execution_count": 17,
   "metadata": {},
   "outputs": [
    {
     "name": "stdout",
     "output_type": "stream",
     "text": [
      "no\n",
      "no\n",
      "no\n",
      "no\n",
      "no\n",
      "yes\n",
      "no\n",
      "no\n",
      "no\n",
      "no\n"
     ]
    }
   ],
   "source": [
    "for i in range(10):\n",
    "    if i == 5:\n",
    "        print(\"yes\")\n",
    "    else: \n",
    "        print(\"no\")"
   ]
  },
  {
   "cell_type": "code",
   "execution_count": null,
   "metadata": {},
   "outputs": [],
   "source": [
    "b = 1\n",
    "for i in range(10):\n",
    "    if b == \"stop\":\n",
    "        print(\"now I stop asking\")\n",
    "        break\n",
    "    else:\n",
    "        b = input()"
   ]
  },
  {
   "cell_type": "code",
   "execution_count": 26,
   "metadata": {},
   "outputs": [
    {
     "name": "stdout",
     "output_type": "stream",
     "text": [
      "lk\n",
      "stop\n",
      "now I stop asking\n"
     ]
    }
   ],
   "source": [
    "b = 1\n",
    "while b != \"stop\":\n",
    "    b = input()\n",
    "print(\"now I stop asking\")"
   ]
  }
 ],
 "metadata": {
  "kernelspec": {
   "display_name": "Python 3",
   "language": "python",
   "name": "python3"
  },
  "language_info": {
   "codemirror_mode": {
    "name": "ipython",
    "version": 3
   },
   "file_extension": ".py",
   "mimetype": "text/x-python",
   "name": "python",
   "nbconvert_exporter": "python",
   "pygments_lexer": "ipython3",
   "version": "3.7.3"
  }
 },
 "nbformat": 4,
 "nbformat_minor": 2
}
