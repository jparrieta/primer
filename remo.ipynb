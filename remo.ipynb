{
 "cells": [
  {
   "cell_type": "markdown",
   "metadata": {},
   "source": [
    "# Ordered bandit buildup\n",
    "\n",
    "The idea is that everyone gets the bandits in the same order, independent of how much they exploited in between explorations. \n",
    "The script below builds exactly what I need. I do not know what language you use. But you can run the code at this address:\n",
    "\n",
    "Just follow the link and af"
   ]
  },
  {
   "cell_type": "code",
   "execution_count": 16,
   "metadata": {},
   "outputs": [
    {
     "name": "stdout",
     "output_type": "stream",
     "text": [
      "Choose and option please (i.e. 0, 1, 2, 3): 0\n",
      "Current payoff: 0\n",
      "Choose and option please (i.e. 0, 1, 2, 3): 3\n",
      "Bandit 1 added as 3\n",
      "Current payoff: 1\n",
      "Choose and option please (i.e. 0, 1, 2, 3): 1\n",
      "Bandit 2 added as 1\n",
      "Current payoff: 2\n",
      "Choose and option please (i.e. 0, 1, 2, 3): 2\n",
      "Bandit 3 added as 2\n",
      "Current payoff: 3\n",
      "Buildup of bandit dictionary finished!\n",
      "The order chosen was: {0: 0, 1: 3, 2: 1, 3: 2}\n"
     ]
    }
   ],
   "source": [
    "num_periods = 10\n",
    "bandits = [[i]*num_periods for i in range(4)]\n",
    "order_log = {}\n",
    "ordered_bandits = {}\n",
    "ordered_bandits[0] = bandits[0]\n",
    "order_log[0] = 0\n",
    "last_added = 0\n",
    "for i in range(num_periods):\n",
    "    try:\n",
    "        if len(ordered_bandits) < 4:\n",
    "            choice = int(input(\"Choose and option please (i.e. 0, 1, 2, 3): \"))\n",
    "            payoff = ordered_bandits[choice][i]\n",
    "            print(\"Current payoff: \" + str(payoff))\n",
    "        else:        \n",
    "            print(\"Buildup of bandit dictionary finished!\")\n",
    "            print(\"The order chosen was: \" + str(order_log))\n",
    "            break\n",
    "    except KeyError:\n",
    "        last_added += 1\n",
    "        order_log[last_added] = choice\n",
    "        ordered_bandits[choice] = bandits[last_added]\n",
    "        print(\"Bandit \" + str(last_added) + \" added as \" + str(choice))\n",
    "        payoff = ordered_bandits[choice][i]\n",
    "        print(\"Current payoff: \" + str(payoff))"
   ]
  }
 ],
 "metadata": {
  "kernelspec": {
   "display_name": "Python 3",
   "language": "python",
   "name": "python3"
  },
  "language_info": {
   "codemirror_mode": {
    "name": "ipython",
    "version": 3
   },
   "file_extension": ".py",
   "mimetype": "text/x-python",
   "name": "python",
   "nbconvert_exporter": "python",
   "pygments_lexer": "ipython3",
   "version": "3.7.3"
  }
 },
 "nbformat": 4,
 "nbformat_minor": 2
}
